{
  "nbformat": 4,
  "nbformat_minor": 0,
  "metadata": {
    "colab": {
      "name": "Copy of Deeplearning-notes.ipynb",
      "provenance": [],
      "authorship_tag": "ABX9TyOXryh40iknyRePnpNrg+7w",
      "include_colab_link": true
    },
    "kernelspec": {
      "name": "python3",
      "display_name": "Python 3"
    }
  },
  "cells": [
    {
      "cell_type": "markdown",
      "metadata": {
        "id": "view-in-github",
        "colab_type": "text"
      },
      "source": [
        "<a href=\"https://colab.research.google.com/github/rayan-roy/Deep-learning-using-Boston-Housing-dataset/blob/master/Deeplearning_housing_dataset.ipynb\" target=\"_parent\"><img src=\"https://colab.research.google.com/assets/colab-badge.svg\" alt=\"Open In Colab\"/></a>"
      ]
    },
    {
      "cell_type": "code",
      "metadata": {
        "id": "LEsxkeqokb90",
        "colab_type": "code",
        "colab": {}
      },
      "source": [
        "pip install tensorflow\n"
      ],
      "execution_count": 4,
      "outputs": []
    },
    {
      "cell_type": "code",
      "metadata": {
        "id": "_2iI75gglbNy",
        "colab_type": "code",
        "colab": {
          "base_uri": "https://localhost:8080/",
          "height": 34
        },
        "outputId": "843a40b4-e7d6-4315-bba3-de34098bcfed"
      },
      "source": [
        "import tensorflow as tf\n",
        "print(tf.__version__)"
      ],
      "execution_count": 5,
      "outputs": [
        {
          "output_type": "stream",
          "text": [
            "2.3.0\n"
          ],
          "name": "stdout"
        }
      ]
    },
    {
      "cell_type": "code",
      "metadata": {
        "id": "GSFOCaiHYDhR",
        "colab_type": "code",
        "colab": {}
      },
      "source": [
        "import numpy as np\n",
        "import pandas as pd\n",
        "import matplotlib.pyplot as plt"
      ],
      "execution_count": 6,
      "outputs": []
    },
    {
      "cell_type": "code",
      "metadata": {
        "id": "WLnho3G2IjYL",
        "colab_type": "code",
        "colab": {}
      },
      "source": [
        "bostondata = pd.read_csv(\"https://raw.githubusercontent.com/dphi-official/Datasets/master/Boston_Housing/Training_set_boston.csv\" )"
      ],
      "execution_count": 7,
      "outputs": []
    },
    {
      "cell_type": "code",
      "metadata": {
        "id": "QKEoHKY7IoDn",
        "colab_type": "code",
        "colab": {
          "base_uri": "https://localhost:8080/",
          "height": 204
        },
        "outputId": "52988350-3662-4315-f755-90b4d6fd533f"
      },
      "source": [
        "bostondata.head()"
      ],
      "execution_count": 8,
      "outputs": [
        {
          "output_type": "execute_result",
          "data": {
            "text/html": [
              "<div>\n",
              "<style scoped>\n",
              "    .dataframe tbody tr th:only-of-type {\n",
              "        vertical-align: middle;\n",
              "    }\n",
              "\n",
              "    .dataframe tbody tr th {\n",
              "        vertical-align: top;\n",
              "    }\n",
              "\n",
              "    .dataframe thead th {\n",
              "        text-align: right;\n",
              "    }\n",
              "</style>\n",
              "<table border=\"1\" class=\"dataframe\">\n",
              "  <thead>\n",
              "    <tr style=\"text-align: right;\">\n",
              "      <th></th>\n",
              "      <th>CRIM</th>\n",
              "      <th>ZN</th>\n",
              "      <th>INDUS</th>\n",
              "      <th>CHAS</th>\n",
              "      <th>NOX</th>\n",
              "      <th>RM</th>\n",
              "      <th>AGE</th>\n",
              "      <th>DIS</th>\n",
              "      <th>RAD</th>\n",
              "      <th>TAX</th>\n",
              "      <th>PTRATIO</th>\n",
              "      <th>B</th>\n",
              "      <th>LSTAT</th>\n",
              "      <th>MEDV</th>\n",
              "    </tr>\n",
              "  </thead>\n",
              "  <tbody>\n",
              "    <tr>\n",
              "      <th>0</th>\n",
              "      <td>15.02340</td>\n",
              "      <td>0.0</td>\n",
              "      <td>18.10</td>\n",
              "      <td>0.0</td>\n",
              "      <td>0.6140</td>\n",
              "      <td>5.304</td>\n",
              "      <td>97.3</td>\n",
              "      <td>2.1007</td>\n",
              "      <td>24.0</td>\n",
              "      <td>666.0</td>\n",
              "      <td>20.2</td>\n",
              "      <td>349.48</td>\n",
              "      <td>24.91</td>\n",
              "      <td>12.0</td>\n",
              "    </tr>\n",
              "    <tr>\n",
              "      <th>1</th>\n",
              "      <td>0.62739</td>\n",
              "      <td>0.0</td>\n",
              "      <td>8.14</td>\n",
              "      <td>0.0</td>\n",
              "      <td>0.5380</td>\n",
              "      <td>5.834</td>\n",
              "      <td>56.5</td>\n",
              "      <td>4.4986</td>\n",
              "      <td>4.0</td>\n",
              "      <td>307.0</td>\n",
              "      <td>21.0</td>\n",
              "      <td>395.62</td>\n",
              "      <td>8.47</td>\n",
              "      <td>19.9</td>\n",
              "    </tr>\n",
              "    <tr>\n",
              "      <th>2</th>\n",
              "      <td>0.03466</td>\n",
              "      <td>35.0</td>\n",
              "      <td>6.06</td>\n",
              "      <td>0.0</td>\n",
              "      <td>0.4379</td>\n",
              "      <td>6.031</td>\n",
              "      <td>23.3</td>\n",
              "      <td>6.6407</td>\n",
              "      <td>1.0</td>\n",
              "      <td>304.0</td>\n",
              "      <td>16.9</td>\n",
              "      <td>362.25</td>\n",
              "      <td>7.83</td>\n",
              "      <td>19.4</td>\n",
              "    </tr>\n",
              "    <tr>\n",
              "      <th>3</th>\n",
              "      <td>7.05042</td>\n",
              "      <td>0.0</td>\n",
              "      <td>18.10</td>\n",
              "      <td>0.0</td>\n",
              "      <td>0.6140</td>\n",
              "      <td>6.103</td>\n",
              "      <td>85.1</td>\n",
              "      <td>2.0218</td>\n",
              "      <td>24.0</td>\n",
              "      <td>666.0</td>\n",
              "      <td>20.2</td>\n",
              "      <td>2.52</td>\n",
              "      <td>23.29</td>\n",
              "      <td>13.4</td>\n",
              "    </tr>\n",
              "    <tr>\n",
              "      <th>4</th>\n",
              "      <td>0.72580</td>\n",
              "      <td>0.0</td>\n",
              "      <td>8.14</td>\n",
              "      <td>0.0</td>\n",
              "      <td>0.5380</td>\n",
              "      <td>5.727</td>\n",
              "      <td>69.5</td>\n",
              "      <td>3.7965</td>\n",
              "      <td>4.0</td>\n",
              "      <td>307.0</td>\n",
              "      <td>21.0</td>\n",
              "      <td>390.95</td>\n",
              "      <td>11.28</td>\n",
              "      <td>18.2</td>\n",
              "    </tr>\n",
              "  </tbody>\n",
              "</table>\n",
              "</div>"
            ],
            "text/plain": [
              "       CRIM    ZN  INDUS  CHAS     NOX  ...    TAX  PTRATIO       B  LSTAT  MEDV\n",
              "0  15.02340   0.0  18.10   0.0  0.6140  ...  666.0     20.2  349.48  24.91  12.0\n",
              "1   0.62739   0.0   8.14   0.0  0.5380  ...  307.0     21.0  395.62   8.47  19.9\n",
              "2   0.03466  35.0   6.06   0.0  0.4379  ...  304.0     16.9  362.25   7.83  19.4\n",
              "3   7.05042   0.0  18.10   0.0  0.6140  ...  666.0     20.2    2.52  23.29  13.4\n",
              "4   0.72580   0.0   8.14   0.0  0.5380  ...  307.0     21.0  390.95  11.28  18.2\n",
              "\n",
              "[5 rows x 14 columns]"
            ]
          },
          "metadata": {
            "tags": []
          },
          "execution_count": 8
        }
      ]
    },
    {
      "cell_type": "markdown",
      "metadata": {
        "id": "z-g0gZDlIvy4",
        "colab_type": "text"
      },
      "source": [
        "Before we do any analysis, we always want to separate the data as input and output variable.\n",
        "\n",
        "Our target column is MEDV\n"
      ]
    },
    {
      "cell_type": "code",
      "metadata": {
        "id": "UaH64SJsI964",
        "colab_type": "code",
        "colab": {}
      },
      "source": [
        "# We select 1 on the bottom because we are dropping in a column and not row\n",
        "X = bostondata.drop(\"MEDV\", axis = 1) \n",
        "y = bostondata.MEDV \n",
        "# Or you can do y = boston_data[\"MEDV\"] "
      ],
      "execution_count": 9,
      "outputs": []
    },
    {
      "cell_type": "markdown",
      "metadata": {
        "id": "zlWXDR42JQJp",
        "colab_type": "text"
      },
      "source": [
        "## Splitting the dataset\n"
      ]
    },
    {
      "cell_type": "code",
      "metadata": {
        "id": "1ed2N2zNJTHs",
        "colab_type": "code",
        "colab": {}
      },
      "source": [
        "from sklearn.model_selection import train_test_split \n",
        "\n",
        "# We are assigning 20% to the test data and 80% to the train data\n",
        "X_train, X_test, y_train, y_test = train_test_split(X, y, test_size=0.2, random_state=42)\n",
        "\n",
        "# random_state = 42: this will fix the split i.e. there will be same split for each time you run the code"
      ],
      "execution_count": 10,
      "outputs": []
    },
    {
      "cell_type": "code",
      "metadata": {
        "id": "nwctJDgAJrmp",
        "colab_type": "code",
        "colab": {
          "base_uri": "https://localhost:8080/",
          "height": 34
        },
        "outputId": "d4048afa-6834-43cd-a041-63c1a997c19f"
      },
      "source": [
        "# Finding the number of feature\n",
        "# Note 1 stands for no of column, while 0 stands for no of rows\n",
        "n_features = X.shape[1]\n",
        "print(n_features)"
      ],
      "execution_count": 11,
      "outputs": [
        {
          "output_type": "stream",
          "text": [
            "13\n"
          ],
          "name": "stdout"
        }
      ]
    },
    {
      "cell_type": "code",
      "metadata": {
        "id": "SPe0uTbVMj8B",
        "colab_type": "code",
        "colab": {}
      },
      "source": [
        "# We will be using Sequential API\n",
        "#It is referred to as “sequential” because it involves defining a Sequential class and \n",
        "#adding layers to the model one by one in a linear manner, from input to output."
      ],
      "execution_count": 12,
      "outputs": []
    },
    {
      "cell_type": "markdown",
      "metadata": {
        "id": "3mzYfsPANF6E",
        "colab_type": "text"
      },
      "source": [
        "The example below defines a Sequential MLP model that accepts one input (i.e. 'YearsExperience'), has one hidden layer with 1 node and then an output layer with one node to predict a numerical value."
      ]
    },
    {
      "cell_type": "code",
      "metadata": {
        "id": "EAbN-CoqNIeL",
        "colab_type": "code",
        "colab": {}
      },
      "source": [
        "from tensorflow.keras import Sequential    # import Sequential from tensorflow.keras\n",
        "from tensorflow.keras.layers import Dense  # import Dense from tensorflow.keras.layers\n",
        "from numpy.random import seed     # seed helps you to fix the randomness in the neural network.  \n",
        "import tensorflow"
      ],
      "execution_count": 13,
      "outputs": []
    },
    {
      "cell_type": "markdown",
      "metadata": {
        "id": "W8cxm0sLNek7",
        "colab_type": "text"
      },
      "source": [
        "Note that the visible layer of the network is defined by the “input_shape” argument on the first hidden layer. That means in the below example, the model expects the input for one sample to be a vector of n_features (our case its 13)\n",
        "\n",
        "\n",
        "The sequential API is easy to use because you keep calling model.add() until you have added all of your layers\n",
        "\n",
        "\n",
        "The activation function we have chosen is ReLU, which stands for rectified linear unit. Activation function decides, whether a neuron should be activated or not\n",
        "\n",
        "\n",
        "ReLU is defined mathematically as F(x) = max(0,x). In other words, the output is x, if x is greater than 0, and the output is 0 if x is 0 or negative."
      ]
    },
    {
      "cell_type": "code",
      "metadata": {
        "id": "wIvWNpnnNdfG",
        "colab_type": "code",
        "colab": {}
      },
      "source": [
        "model = Sequential()\n",
        "# We added 3 layers\n",
        "model.add(Dense(10, activation='relu', input_shape=(n_features,)))\n",
        "model.add(Dense(8, activation='relu'))\n",
        "model.add(Dense(1))"
      ],
      "execution_count": 14,
      "outputs": []
    },
    {
      "cell_type": "code",
      "metadata": {
        "id": "jMvXGIJJOgNX",
        "colab_type": "code",
        "colab": {
          "base_uri": "https://localhost:8080/",
          "height": 255
        },
        "outputId": "21ccd4b4-ccaf-4e9a-b21a-23a6ee222f2e"
      },
      "source": [
        "model.summary()"
      ],
      "execution_count": 15,
      "outputs": [
        {
          "output_type": "stream",
          "text": [
            "Model: \"sequential\"\n",
            "_________________________________________________________________\n",
            "Layer (type)                 Output Shape              Param #   \n",
            "=================================================================\n",
            "dense (Dense)                (None, 10)                140       \n",
            "_________________________________________________________________\n",
            "dense_1 (Dense)              (None, 8)                 88        \n",
            "_________________________________________________________________\n",
            "dense_2 (Dense)              (None, 1)                 9         \n",
            "=================================================================\n",
            "Total params: 237\n",
            "Trainable params: 237\n",
            "Non-trainable params: 0\n",
            "_________________________________________________________________\n"
          ],
          "name": "stdout"
        }
      ]
    },
    {
      "cell_type": "markdown",
      "metadata": {
        "id": "l5prgx5-O5Ec",
        "colab_type": "text"
      },
      "source": [
        "An Optimizer helps optimize a cost function\n",
        "\n",
        "## Compiling the Model\n",
        "\n",
        "\n",
        "Compiling the model requires that you first select a loss function that you want to optimize, such as mean squared error (lin regression) or cross-entropy (used for binary classification).\n",
        "\n",
        "It also requires that you select an algorithm to perform the optimization procedure. We’re using RMSprop as our optimizer here. RMSprop stands for Root Mean Square Propagation.\n",
        "\n",
        "It may also require that you select any performance metrics to keep track of during the model training process. The loss function used here is mean squared error."
      ]
    },
    {
      "cell_type": "code",
      "metadata": {
        "id": "8k3GGVtoO_Yl",
        "colab_type": "code",
        "colab": {}
      },
      "source": [
        "# import RMSprop optimizer\n",
        "from tensorflow.keras.optimizers import RMSprop\n",
        "optimizer = RMSprop(0.01)    # 0.01 is the learning rate"
      ],
      "execution_count": 16,
      "outputs": []
    },
    {
      "cell_type": "markdown",
      "metadata": {
        "id": "zLSgv9eaPX9C",
        "colab_type": "text"
      },
      "source": [
        "You may wonder why learning rate of 0.01? \n",
        "Usually its between 1 and 10^(-6) but you it can be determined using trial and error\n",
        "\n",
        "Tradtionally its 0.1, or 0.01 or 0.03\n"
      ]
    },
    {
      "cell_type": "code",
      "metadata": {
        "id": "kJeBE5mLPqA4",
        "colab_type": "code",
        "colab": {}
      },
      "source": [
        "model.compile(loss='mean_squared_error',optimizer=optimizer)    # compile the model\n",
        "# We see the optimizer was a RmSprop which is also root mean square propagation"
      ],
      "execution_count": 17,
      "outputs": []
    },
    {
      "cell_type": "markdown",
      "metadata": {
        "id": "AVk5WAlCQF0T",
        "colab_type": "text"
      },
      "source": [
        "## Fitting the model\n",
        "Fitting the model requires that you first select the training configuration, such as the number of epochs (loops through the training dataset) and the batch size (number of samples in an epoch used to estimate model error).\n",
        "\n",
        "Training applies the chosen optimization algorithm to minimize the chosen loss function and updates the model using the backpropagation\n",
        "\n",
        "\n",
        "---\n",
        "\n",
        "\n",
        "Fitting the model is the slow part of the whole process and can take seconds to hours to days, depending on the complexity of the model, the hardware you’re using, and the size of the training dataset.\n",
        "\n",
        "While fitting the model, a progress bar will summarize the status of each epoch and the overall training process.\n",
        "\n"
      ]
    },
    {
      "cell_type": "markdown",
      "metadata": {
        "id": "UtaOEqYySis6",
        "colab_type": "text"
      },
      "source": [
        "**Seed Everything**\n",
        "We want to seed everything in order to replicate or have consistent randomization in code. The weights of paramters are usually randomized.\n",
        "When we seed, we can reproduce these results.\n",
        "\n",
        "**So say we said 42, if we say 80  next time, and then again 42, both times when 42 is used, we get the same results**"
      ]
    },
    {
      "cell_type": "code",
      "metadata": {
        "id": "pmPbUkRuTj68",
        "colab_type": "code",
        "colab": {
          "base_uri": "https://localhost:8080/",
          "height": 34
        },
        "outputId": "cfd03057-a91c-4fd7-dc23-bb09f3cccf9b"
      },
      "source": [
        "X_train.shape #  => (323,13)\n",
        "X_train.shape[0] # => 323\n",
        "X_train.shape[1] # => 13"
      ],
      "execution_count": 18,
      "outputs": [
        {
          "output_type": "execute_result",
          "data": {
            "text/plain": [
              "13"
            ]
          },
          "metadata": {
            "tags": []
          },
          "execution_count": 18
        }
      ]
    },
    {
      "cell_type": "code",
      "metadata": {
        "id": "GhrLM6JnQcD4",
        "colab_type": "code",
        "colab": {
          "base_uri": "https://localhost:8080/",
          "height": 374
        },
        "outputId": "a93c6d1a-9d0d-4272-d1ec-7a98957b2862"
      },
      "source": [
        "seed_value = 42\n",
        "seed(seed_value)        # If you build the model with given parameters, \n",
        "#set_random_seed will help you produce the same result on multiple execution\n",
        "\n",
        "\n",
        "# Recommended by Keras --------------------------------------------------------\n",
        "# 1. Set 'PYTHONHASHSEED' environment variable at a fixed value\n",
        "import os\n",
        "os.environ['PYTHONHASHSEED']=str(seed_value)\n",
        "\n",
        "# 2. Set 'python' built-in pseudo-random generator at a fixed value\n",
        "import random\n",
        "random.seed(seed_value)\n",
        "\n",
        "# 3. Set 'numpy' pseudo-random generator at a fixed value\n",
        "import numpy as np\n",
        "np.random.seed(seed_value)\n",
        "# Recommended by Keras -------------------------------------------------------\n",
        "\n",
        "\n",
        "# 4. Set the `tensorflow` pseudo-random generator at a fixed value\n",
        "tensorflow.random.set_seed(seed_value) \n",
        "model.fit(X_train, y_train, epochs=10, batch_size=30, verbose = 1)\n",
        "\n",
        "# By now the model has learned the coefficient m, and c of mx+c"
      ],
      "execution_count": 19,
      "outputs": [
        {
          "output_type": "stream",
          "text": [
            "Epoch 1/10\n",
            "11/11 [==============================] - 0s 2ms/step - loss: 325.7995\n",
            "Epoch 2/10\n",
            "11/11 [==============================] - 0s 1ms/step - loss: 87.7003\n",
            "Epoch 3/10\n",
            "11/11 [==============================] - 0s 1ms/step - loss: 102.2011\n",
            "Epoch 4/10\n",
            "11/11 [==============================] - 0s 1ms/step - loss: 97.3594\n",
            "Epoch 5/10\n",
            "11/11 [==============================] - 0s 1ms/step - loss: 73.5658\n",
            "Epoch 6/10\n",
            "11/11 [==============================] - 0s 1ms/step - loss: 100.7587\n",
            "Epoch 7/10\n",
            "11/11 [==============================] - 0s 1ms/step - loss: 72.4126\n",
            "Epoch 8/10\n",
            "11/11 [==============================] - 0s 1ms/step - loss: 88.2007\n",
            "Epoch 9/10\n",
            "11/11 [==============================] - 0s 1ms/step - loss: 88.9650\n",
            "Epoch 10/10\n",
            "11/11 [==============================] - 0s 1ms/step - loss: 87.7681\n"
          ],
          "name": "stdout"
        },
        {
          "output_type": "execute_result",
          "data": {
            "text/plain": [
              "<tensorflow.python.keras.callbacks.History at 0x7ff9d378dba8>"
            ]
          },
          "metadata": {
            "tags": []
          },
          "execution_count": 19
        }
      ]
    },
    {
      "cell_type": "markdown",
      "metadata": {
        "id": "hK5l8AcEQ43r",
        "colab_type": "text"
      },
      "source": [
        "What is verbose?\n",
        "\n",
        "By setting verbose 0, 1 or 2 you just say how do you want to 'see' the training progress for each epoch.\n",
        "\n",
        "verbose=0 will show you nothing (silent)\n",
        "\n",
        "verbose=1 will show you an animated progress bar like this: [======]\n",
        "progres_bar\n",
        "\n",
        "verbose=2 will just mention the number of epoch like this: Epoch 1/10\n",
        "\n",
        "verbose = 2 "
      ]
    },
    {
      "cell_type": "markdown",
      "metadata": {
        "id": "6WL7kCX2Rb8G",
        "colab_type": "text"
      },
      "source": [
        "## Evaluate the Model\n",
        "\n",
        "Evaluating the model requires that you first choose small subset of a dataset used to evaluate the model. This should be data not used in the training process i.e. the X_test."
      ]
    },
    {
      "cell_type": "code",
      "metadata": {
        "id": "Kn__XKrjRjy6",
        "colab_type": "code",
        "colab": {
          "base_uri": "https://localhost:8080/",
          "height": 51
        },
        "outputId": "853b36be-073d-4560-8194-be322beb5202"
      },
      "source": [
        "model.evaluate(X_test, y_test) #evaluate on the 20% of the test based on the model coefficent that it was trained"
      ],
      "execution_count": 20,
      "outputs": [
        {
          "output_type": "stream",
          "text": [
            "3/3 [==============================] - 0s 2ms/step - loss: 50.1649\n"
          ],
          "name": "stdout"
        },
        {
          "output_type": "execute_result",
          "data": {
            "text/plain": [
              "50.16490936279297"
            ]
          },
          "metadata": {
            "tags": []
          },
          "execution_count": 20
        }
      ]
    },
    {
      "cell_type": "markdown",
      "metadata": {
        "id": "cZRysiKuRtO2",
        "colab_type": "text"
      },
      "source": [
        "The mean squared error we got here is 50.16. Now, what does it mean?\n",
        "\n",
        "When you subtract the predicted values (of X_test data) from the acutal value (of X_test data), then square it and sum all the squares, and finally take a mean (i.e. average) of it, the result you will get is 50.16 in this case.\n"
      ]
    },
    {
      "cell_type": "code",
      "metadata": {
        "id": "IN_2-2XfR1qM",
        "colab_type": "code",
        "colab": {}
      },
      "source": [
        "model.predict(X_test) #Gives the predicted Y values"
      ],
      "execution_count": null,
      "outputs": []
    },
    {
      "cell_type": "code",
      "metadata": {
        "id": "aR_mwvJCUt3t",
        "colab_type": "code",
        "colab": {}
      },
      "source": [
        "# Plotting the loss curve:\n",
        "\n",
        "def plotting_the_loss_curve(epochs, rmse):\n",
        "  \"Returns the curve of loss vs epoch\"\n",
        "  plt.figure()\n",
        "  plt.xlabel(\"Epoch\")\n",
        "  plt.ylabel(\"Root Mean Squared Error\")\n",
        "  plt.plot(epochs, rmse,label=\"Loss\")\n",
        "  plt.legend()\n",
        "  plt.show()"
      ],
      "execution_count": 21,
      "outputs": []
    },
    {
      "cell_type": "markdown",
      "metadata": {
        "id": "hzrj932e3W_f",
        "colab_type": "text"
      },
      "source": [
        "## Hyper Parameter tuning\n",
        "We will be testing different rates to find an optimal option\n",
        "\n",
        "**Learning Rate**\n",
        "\n",
        "A scalar used to train a model via gradient descent. During each iteration, the gradient descent algorithm multiplies the learning rate by the gradient. The resulting product is called the gradient step.\n",
        "\n",
        "Learning rate is a key hyperparameter."
      ]
    },
    {
      "cell_type": "code",
      "metadata": {
        "id": "6DQvxrJ23SXy",
        "colab_type": "code",
        "colab": {
          "base_uri": "https://localhost:8080/",
          "height": 391
        },
        "outputId": "53bc0157-69af-455e-9ada-ef826769d427"
      },
      "source": [
        "# Model 1\n",
        "# Changing alpha from 0.01 to 0.1\n",
        "model = Sequential()\n",
        "model.add(Dense(10, activation='relu', input_shape=(n_features,)))\n",
        "model.add(Dense(8, activation='relu'))\n",
        "model.add(Dense(1))\n",
        "\n",
        "optimizer = RMSprop(0.1)    # 0.1 is the learning rate\n",
        "model.compile(loss='mean_squared_error',optimizer=optimizer)    # compile the model\n",
        "\n",
        "# fit the model \n",
        "history = model.fit(X_train, y_train, epochs=10, batch_size=30, verbose = 1)\n",
        "\n",
        "# evaluate the model\n",
        "print('The MSE value is: ', model.evaluate(X_test, y_test))"
      ],
      "execution_count": 23,
      "outputs": [
        {
          "output_type": "stream",
          "text": [
            "Epoch 1/10\n",
            "11/11 [==============================] - 0s 1ms/step - loss: 9724.5732\n",
            "Epoch 2/10\n",
            "11/11 [==============================] - 0s 1ms/step - loss: 582.0069\n",
            "Epoch 3/10\n",
            "11/11 [==============================] - 0s 2ms/step - loss: 555.8216\n",
            "Epoch 4/10\n",
            "11/11 [==============================] - 0s 1ms/step - loss: 521.9396\n",
            "Epoch 5/10\n",
            "11/11 [==============================] - 0s 1ms/step - loss: 483.8689\n",
            "Epoch 6/10\n",
            "11/11 [==============================] - 0s 1ms/step - loss: 444.7491\n",
            "Epoch 7/10\n",
            "11/11 [==============================] - 0s 1ms/step - loss: 406.9054\n",
            "Epoch 8/10\n",
            "11/11 [==============================] - 0s 1ms/step - loss: 371.2612\n",
            "Epoch 9/10\n",
            "11/11 [==============================] - 0s 1ms/step - loss: 337.6587\n",
            "Epoch 10/10\n",
            "11/11 [==============================] - 0s 1ms/step - loss: 306.2268\n",
            "3/3 [==============================] - 0s 2ms/step - loss: 271.3606\n",
            "The MSE value is:  271.3605651855469\n"
          ],
          "name": "stdout"
        }
      ]
    },
    {
      "cell_type": "markdown",
      "metadata": {
        "id": "UagNZztD4dbo",
        "colab_type": "text"
      },
      "source": [
        "We see that the loss is 306.2268, which is worst that we had. Note you look at the last loss and not the MSE value\n",
        "\n"
      ]
    },
    {
      "cell_type": "code",
      "metadata": {
        "id": "Puuilhdo43jK",
        "colab_type": "code",
        "colab": {
          "base_uri": "https://localhost:8080/",
          "height": 279
        },
        "outputId": "7a45f2bd-2981-432b-fcfd-cd7a4451cd44"
      },
      "source": [
        "# TO observe the deviation\n",
        "plotting_the_loss_curve(history.epoch, history.history[\"loss\"])\n",
        "# You need to use history function for some reason, don't know why"
      ],
      "execution_count": 24,
      "outputs": [
        {
          "output_type": "display_data",
          "data": {
            "image/png": "[encoded data removed]",
            "text/plain": [
              "<Figure size 432x288 with 1 Axes>"
            ]
          },
          "metadata": {
            "tags": [],
            "needs_background": "light"
          }
        }
      ]
    },
    {
      "cell_type": "markdown",
      "metadata": {
        "id": "XJQ9AOMM6U3C",
        "colab_type": "text"
      },
      "source": [
        "**As the number of epochs increases, the model learns better and RMSE starts ro decrease**\n"
      ]
    },
    {
      "cell_type": "markdown",
      "metadata": {
        "id": "NPj2yTgbZt9M",
        "colab_type": "text"
      },
      "source": [
        "We will be testing different learning rate and how it works\n"
      ]
    },
    {
      "cell_type": "code",
      "metadata": {
        "id": "w5stuqoiZ3Qv",
        "colab_type": "code",
        "colab": {
          "base_uri": "https://localhost:8080/",
          "height": 391
        },
        "outputId": "a0b285de-0d8e-4364-a876-3b7dcd339a19"
      },
      "source": [
        "learning_rate = 0.03          \n",
        "epochs = 10\n",
        "optimizer = RMSprop(learning_rate)\n",
        "model.compile(loss='mean_squared_error',optimizer=optimizer)    # compile the model\n",
        "model.fit(X_train, y_train, epochs=epochs, batch_size=30)     # fit the model\n",
        "model.evaluate(X_test, y_test)       # Evaluate the model"
      ],
      "execution_count": 25,
      "outputs": [
        {
          "output_type": "stream",
          "text": [
            "Epoch 1/10\n",
            "11/11 [==============================] - 0s 1ms/step - loss: 281.2031\n",
            "Epoch 2/10\n",
            "11/11 [==============================] - 0s 1ms/step - loss: 269.7977\n",
            "Epoch 3/10\n",
            "11/11 [==============================] - 0s 1ms/step - loss: 260.7584\n",
            "Epoch 4/10\n",
            "11/11 [==============================] - 0s 1ms/step - loss: 252.4206\n",
            "Epoch 5/10\n",
            "11/11 [==============================] - 0s 2ms/step - loss: 244.3937\n",
            "Epoch 6/10\n",
            "11/11 [==============================] - 0s 1ms/step - loss: 236.4837\n",
            "Epoch 7/10\n",
            "11/11 [==============================] - 0s 1ms/step - loss: 228.8299\n",
            "Epoch 8/10\n",
            "11/11 [==============================] - 0s 1ms/step - loss: 221.4789\n",
            "Epoch 9/10\n",
            "11/11 [==============================] - 0s 1ms/step - loss: 214.3056\n",
            "Epoch 10/10\n",
            "11/11 [==============================] - 0s 1ms/step - loss: 207.3204\n",
            "3/3 [==============================] - 0s 2ms/step - loss: 184.8917\n"
          ],
          "name": "stdout"
        },
        {
          "output_type": "execute_result",
          "data": {
            "text/plain": [
              "184.89169311523438"
            ]
          },
          "metadata": {
            "tags": []
          },
          "execution_count": 25
        }
      ]
    },
    {
      "cell_type": "markdown",
      "metadata": {
        "id": "80ryHUR0acco",
        "colab_type": "text"
      },
      "source": [
        "We see that as we decreased the learning rate from 0.01 to 0.03 the loss decreased to 184.8917"
      ]
    },
    {
      "cell_type": "markdown",
      "metadata": {
        "id": "Zx9e4za7arCl",
        "colab_type": "text"
      },
      "source": [
        "Now, we are going to test with **epochs**\n",
        "In the code below, Epoch will be increased from 10 to 100"
      ]
    },
    {
      "cell_type": "code",
      "metadata": {
        "id": "Ashvq-vWau3X",
        "colab_type": "code",
        "colab": {}
      },
      "source": [
        "learning_rate = 0.03          \n",
        "epochs = 100\n",
        "optimizer = RMSprop(learning_rate)\n",
        "model.compile(loss='mean_squared_error',optimizer=optimizer)    # compile the model\n",
        "model.fit(X_train, y_train, epochs=epochs, batch_size=30)     # fit the model\n",
        "model.evaluate(X_test, y_test)       # Evaluate the model"
      ],
      "execution_count": null,
      "outputs": []
    },
    {
      "cell_type": "markdown",
      "metadata": {
        "id": "v4J-oFhLdI4v",
        "colab_type": "text"
      },
      "source": [
        "It can be seen as we increased the epoch while keep the **learning rate** same/constant, the loss decreased to 71.\n",
        "\n",
        "Note the downside is that the model might overfit too much by learning the pattern, which is not good either"
      ]
    },
    {
      "cell_type": "markdown",
      "metadata": {
        "id": "UvpTCeibdqPn",
        "colab_type": "text"
      },
      "source": [
        "Now we will test with **Batch Size** which is basically the number of batches in a batch"
      ]
    },
    {
      "cell_type": "code",
      "metadata": {
        "id": "wtDDVR_WdeMX",
        "colab_type": "code",
        "colab": {}
      },
      "source": [
        "# Model 2\n",
        "model = Sequential()\n",
        "model.add(Dense(10, activation='relu', input_shape=(n_features,)))\n",
        "model.add(Dense(8, activation='relu'))\n",
        "model.add(Dense(1))\n",
        "\n",
        "optimizer = RMSprop(0.01)    # 0.1 is the learning rate\n",
        "model.compile(loss='mean_squared_error',optimizer=optimizer)   \n",
        "\n",
        "# fit the model \n",
        "model.fit(X_train, y_train, epochs=10, batch_size=40, verbose = 1) # Batch size increased from 30 to 40\n",
        "\n",
        "# evaluate the model\n",
        "print('The MSE value is: ', model.evaluate(X_test, y_test))"
      ],
      "execution_count": null,
      "outputs": []
    },
    {
      "cell_type": "markdown",
      "metadata": {
        "id": "kF9dOgyseg29",
        "colab_type": "text"
      },
      "source": [
        "We see that increasing the batch size made the model better as lowest loss was 122 as compared to model 1 (right below **learning rate**), which was 306. \n",
        "\n",
        "What we learn is that we need to be testing in order to see what fits the model. The law of large numbers may not work all the time, where higher the n the better it is"
      ]
    },
    {
      "cell_type": "markdown",
      "metadata": {
        "id": "CNPF43gSfFHH",
        "colab_type": "text"
      },
      "source": [
        "## Conclusion\n",
        "\n",
        "Most machine learning problems require a lot of hyperparameter tuning. \n",
        "\n",
        "Lowering the learning rate can help one model converge efficiently but make another model converge much too slowly. We must experiment to find the best set of hyperparameters"
      ]
    }
  ]
}
